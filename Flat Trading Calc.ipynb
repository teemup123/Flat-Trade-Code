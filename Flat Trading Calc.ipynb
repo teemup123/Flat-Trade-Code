{
 "cells": [
  {
   "cell_type": "code",
   "execution_count": 1,
   "metadata": {},
   "outputs": [],
   "source": [
    "import pandas as pd\n",
    "import numpy as np\n",
    "import matplotlib.pyplot as plt\n",
    "\n",
    "df = pd.read_excel (r'/Users/teemup123/Documents/Equation to solve.xlsx')\n",
    "df = np.array(df)"
   ]
  },
  {
   "cell_type": "code",
   "execution_count": 2,
   "metadata": {},
   "outputs": [
    {
     "data": {
      "text/plain": [
       "Text(0, 0.5, 'price')"
      ]
     },
     "execution_count": 2,
     "metadata": {},
     "output_type": "execute_result"
    },
    {
     "data": {
      "image/png": "[encoded data removed]",
      "text/plain": [
       "<Figure size 432x288 with 1 Axes>"
      ]
     },
     "metadata": {
      "needs_background": "light"
     },
     "output_type": "display_data"
    }
   ],
   "source": [
    "plt.plot(df[:,0],df[:,1],color = 'black', label ='stock price' )\n",
    "plt.xlabel('period')\n",
    "plt.ylabel('price')"
   ]
  },
  {
   "cell_type": "code",
   "execution_count": 3,
   "metadata": {},
   "outputs": [],
   "source": [
    "#DUMMY CODE \n",
    "#P0: Reference price, P1: first evaluating point, PN: Nth point after P1 \n",
    "#Position Establishment [when movement?]\n",
    "    # LNG = SHT = 0.5 \n",
    "    # If (P1 - P0)/P0 >= LNG/100 : LONG \n",
    "    # If (P0 - p1)/P0 >= SHT/100 : SHORT\n",
    "#Cut loss condition [tunable]\n",
    "    # for n > 1, \n",
    "        # LONG: if Pn <= P0, cut loss\n",
    "        # SHORT: if Pn >= P0, cut loss \n",
    "#Take profit condition \n",
    "    # for n > 1, \n",
    "        #LONG: if (Pn - P1)/P1 >= 1/100 \n",
    "        #SHORT: if (P1 - Pn)/P1 >= 1/100 \n",
    "PA = df[:,1]"
   ]
  },
  {
   "cell_type": "code",
   "execution_count": null,
   "metadata": {},
   "outputs": [],
   "source": []
  },
  {
   "cell_type": "code",
   "execution_count": 5,
   "metadata": {},
   "outputs": [],
   "source": [
    "from IPython.display import clear_output"
   ]
  },
  {
   "cell_type": "code",
   "execution_count": 10,
   "metadata": {
    "scrolled": true
   },
   "outputs": [
    {
     "name": "stdout",
     "output_type": "stream",
     "text": [
      "Current Progress 100.0 %\n"
     ]
    }
   ],
   "source": [
    "from IPython.display import clear_output\n",
    "\n",
    "#Parameters \n",
    "#Take profit\n",
    "LNG = SHT = 0.5/100 #When to establish position\n",
    "PRT_LNG = 1/100 #Take long profit parameter 1% \n",
    "PRT_SHT = 1/100 #Take short profit parameter 1% \n",
    "#Stop loss \n",
    "#When price reaches P0 \n",
    "\n",
    "Accum_profit = 0\n",
    "Accum_loss = 0\n",
    "Stake = 1E6\n",
    "Fund = np.array([1E6])\n",
    "\n",
    "for i in range(len(df)-1): \n",
    "    \n",
    "    clear_output(wait = True)\n",
    "    \n",
    "    P0 = PA[i]\n",
    "    P1 = PA[i+1]\n",
    "    \n",
    "    if (P1 - P0)/P0 >= LNG: #Long Position Condition \n",
    "        \n",
    "        for j in range(len(df[i:,:])-1): #iterating from P1 to P_end \n",
    "           \n",
    "            Pn = df[i+1+j, 1]\n",
    "            \n",
    "            if (Pn - P1)/P1 >= PRT_LNG: #Take profit condition\n",
    "                \n",
    "                profit = Stake*(Pn-P1)/P1\n",
    "                Accum_profit = Accum_profit + profit \n",
    "                Fund = np.append(Fund, Fund[-1]+profit)\n",
    "                break\n",
    "                \n",
    "            elif Pn <= P0: #Stoploss condition \n",
    "                \n",
    "                loss = Stake*(Pn-P1)/P1\n",
    "                Accum_loss = Accum_loss + loss\n",
    "                Fund = np.append(Fund, Fund[-1]+loss)\n",
    "                \n",
    "                break\n",
    "        \n",
    "    elif (P0 - P1)/P0 >= SHT: #Short Position Condition \n",
    "        \n",
    "        for j in range(len(df[i:,:])-1):\n",
    "            Pn = df[i+1+j, 1]\n",
    "            \n",
    "            if (P1 - Pn)/P1 >= PRT_SHT: #Take profit condition\n",
    "                \n",
    "                profit = Stake*(Pn-P1)/P1\n",
    "                Accum_profit = Accum_profit + profit \n",
    "                Fund = np.append(Fund, Fund[-1]+profit)\n",
    "                \n",
    "                break\n",
    "                \n",
    "            elif Pn <= P0: #Stoploss condition \n",
    "                \n",
    "                loss = Stake*(Pn-P1)/P1\n",
    "                Accum_loss = Accum_loss + loss\n",
    "                Fund = np.append(Fund, Fund[-1]+loss)\n",
    "                \n",
    "                break\n",
    "    \n",
    "    print('Current Progress', np.round(100*i/(len(df)-1), 2),\"%\")\n",
    "    "
   ]
  },
  {
   "cell_type": "code",
   "execution_count": 11,
   "metadata": {},
   "outputs": [],
   "source": [
    "X = range(len(Fund))"
   ]
  },
  {
   "cell_type": "code",
   "execution_count": 16,
   "metadata": {},
   "outputs": [
    {
     "data": {
      "text/plain": [
       "Text(0, 0.5, 'Portfolio Value')"
      ]
     },
     "execution_count": 16,
     "metadata": {},
     "output_type": "execute_result"
    },
    {
     "data": {
      "image/png": "[encoded data removed]",
      "text/plain": [
       "<Figure size 432x288 with 1 Axes>"
      ]
     },
     "metadata": {
      "needs_background": "light"
     },
     "output_type": "display_data"
    }
   ],
   "source": [
    "plt.plot(X, Fund,'k', label ='stock price' )\n",
    "plt.xlabel('Number of Trade Executed')\n",
    "plt.ylabel('Portfolio Value')\n",
    "\n"
   ]
  },
  {
   "cell_type": "code",
   "execution_count": 18,
   "metadata": {},
   "outputs": [
    {
     "data": {
      "text/plain": [
       "2.4100110577849825"
      ]
     },
     "execution_count": 18,
     "metadata": {},
     "output_type": "execute_result"
    }
   ],
   "source": [
    "Fund[-1]/Fund[0]"
   ]
  },
  {
   "cell_type": "code",
   "execution_count": 26,
   "metadata": {},
   "outputs": [
    {
     "data": {
      "text/plain": [
       "(array([2782]),)"
      ]
     },
     "execution_count": 26,
     "metadata": {},
     "output_type": "execute_result"
    }
   ],
   "source": [
    "np.where(Fund==max(Fund))"
   ]
  },
  {
   "cell_type": "code",
   "execution_count": 152,
   "metadata": {},
   "outputs": [
    {
     "name": "stdout",
     "output_type": "stream",
     "text": [
      "(array([276307]),)\n"
     ]
    }
   ],
   "source": [
    "print(np.where(df[:,1] == Pn))"
   ]
  },
  {
   "cell_type": "code",
   "execution_count": 149,
   "metadata": {},
   "outputs": [
    {
     "data": {
      "text/plain": [
       "279291"
      ]
     },
     "execution_count": 149,
     "metadata": {},
     "output_type": "execute_result"
    }
   ],
   "source": [
    "len(df)"
   ]
  }
 ],
 "metadata": {
  "kernelspec": {
   "display_name": "Python 3",
   "language": "python",
   "name": "python3"
  },
  "language_info": {
   "codemirror_mode": {
    "name": "ipython",
    "version": 3
   },
   "file_extension": ".py",
   "mimetype": "text/x-python",
   "name": "python",
   "nbconvert_exporter": "python",
   "pygments_lexer": "ipython3",
   "version": "3.7.4"
  }
 },
 "nbformat": 4,
 "nbformat_minor": 2
}
